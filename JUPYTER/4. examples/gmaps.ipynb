{
 "cells": [
  {
   "cell_type": "markdown",
   "metadata": {},
   "source": [
    "## gmaps.Map()"
   ]
  },
  {
   "cell_type": "markdown",
   "metadata": {},
   "source": [
    "Create a basemap, you can add additional layers on the basemap."
   ]
  },
  {
   "cell_type": "code",
   "execution_count": null,
   "metadata": {
    "collapsed": true
   },
   "outputs": [],
   "source": [
    "# ex)\n",
    "m = gmaps.Map()\n",
    "m.add_layer(gmaps.heatmap_layer(locations))"
   ]
  },
  {
   "cell_type": "markdown",
   "metadata": {},
   "source": [
    "## gmaps.heatmap_layer(locations, weights=None, max_intensity=None, dissipating=True, point_radius=None, opacity=0.6, gradient=None)\n"
   ]
  },
  {
   "cell_type": "markdown",
   "metadata": {},
   "source": [
    "Create a heatmap layer. A heatmap shows the density of points in or near a particular area."
   ]
  },
  {
   "cell_type": "markdown",
   "metadata": {},
   "source": [
    "- locations - Iterable of (latitude, longitude) pairs showing a specific location. This locations can be input as either a list of tuples or a twodimensional array or a dataframe. First comes considered as latitude and second comes considered as longitude. Latitudes are expressed as a float between -90 and +90. Longitudes are expressed as a float between -180 and +180. \n",
    "- weights (iterable of floats, optional) – Iterable of weights of the same length as locations. It is possible to give weight using this. All the weights must be positive.\n",
    "- max_intensity (float, optional) – Strictly positive floating point number indicating the numeric value that corresponds to the hottest colour in the heatmap gradient. Any density of points greater than that value will just get mapped to the hottest colour. Setting this value can be useful when your data is sharply peaked. It is also useful if you find that your heatmap disappears as you zoom in.\n",
    "- point_radius (int, optional) – Control the size of point to be shown. All the values must be positive This determines the “radius of influence” of each data point.\n",
    "- dissipating (bool, optional) – When user zooms in or out, the radious of influence can be changed. In case it is True, the influence will be increased as user zooms out or decreased zoom in. If you do not want it and keep the influence same, make it False. Default value is True.\n",
    "- opacity (float, optional) – The opacity of the heatmap layer. Defaults to 0.6.\n",
    "- gradient (list of colors, optional) – This data type should be a list of colors. User can control the color gradient. Google Maps choose proper  color by  linear interpolation. Colors can be specified as a simple string, e.g. ‘blue’, as an RGB tuple, e.g. (100, 0, 0), or as an RGBA tuple, e.g. (100, 0, 0, 0.5)."
   ]
  },
  {
   "cell_type": "code",
   "execution_count": null,
   "metadata": {
    "collapsed": true
   },
   "outputs": [],
   "source": [
    "# ex)\n",
    "m = gmaps.Map()\n",
    "locations = [(46.1, 5.2), (46.2, 5.3), (46.3, 5.4)]\n",
    "heatmap_layer = gmaps.heatmap_layer(locations)\n",
    "heatmap_layer.max_intensity = 3\n",
    "heatmap_layer.point_radius = 2\n",
    "heatmap_layer.gradient = ['white', 'gray']\n",
    "m.add_layer(heatmap_layer)"
   ]
  },
  {
   "cell_type": "markdown",
   "metadata": {},
   "source": [
    "## gmaps.symbol_layer(locations, hover_text=’‘, fill_color=None, fill_opacity=1.0, stroke_color=None, stroke_opacity=1.0, scale=3, info_box_content=None, display_info_box=None)\n"
   ]
  },
  {
   "cell_type": "markdown",
   "metadata": {},
   "source": [
    "Create a symbol layer. Add this layer to a Map instance to draw symbols on the map"
   ]
  },
  {
   "cell_type": "markdown",
   "metadata": {},
   "source": [
    "- locations - Iterable of (latitude, longitude) pairs showing a specific location. This locations can be input as either a list of tuples or a twodimensional array or a dataframe. First comes considered as latitude and second comes considered as longitude. Latitudes are expressed as a float between -90 and +90. Longitudes are expressed as a float between -180 and +180.\n",
    "- hover_text (string or list of strings, optional) – Text to be displayed when a user’s mouse is on a marker. In a single string case, it will be applied to every marker. Or it must be of the same length as locations. If this is set to an empty string, nothing will appear when the user’s mouse on a symbol.\n",
    "- fill_color (single color or list of colors, optional) – The color of the symbol. In a single color case, the same color will apply to every symbol. Or it must be the same length as locations. Colors can be specified as a simple string, e.g. ‘blue’, as an RGB tuple, e.g. (100, 0, 0), or as an RGBA tuple, e.g. (100, 0, 0, 0.5).\n",
    "- fill_opacity (float or list of floats, optional) – The opacity of the color. The opacity should be a float between 0.0 (transparent) and 1.0 (opaque), or a list of floats. Default = 1.0.\n",
    "- stroke_color (single color or list of colors, optional) – The stroke color of the symbol. In a single color case, the same color will apply to every symbol. Or it must be the same length as locations. Colors can be specified as same in fill_color\n",
    "- stroke_opacity (float or list of floats, optional) – The opacity of the stroke color. The opacity should be a float between 0.0 (transparent) and 1.0 (opaque), or a list of floats. Default = 1.0.\n",
    "- scale (integer or list of integers, optional) – The size of marker. In a single integer case, the same scale will be applied to every marker. Or it must be an iterable of the same length as locations. The scale must be greater than 1. Default = 3.\n",
    "- info_box_content (string or list of strings, optional) – Content to be displayed when user clicks on a marker. In a single string case, the same content will apply to every marker. Or a list of strings of the same length of the locations list.\n",
    "- display_info_box (boolean or list of booleans, optional) – Whether to display an info box when the user clicks on a symbol. In a single boolean value case, it will be applied to every symbol. Or a list of boolean values of the same length as the locations list. The default value is True for any symbols for which info_box_content is set, and False otherwise."
   ]
  },
  {
   "cell_type": "code",
   "execution_count": null,
   "metadata": {
    "collapsed": true
   },
   "outputs": [],
   "source": [
    "# ex)\n",
    "m = gmaps.Map()\n",
    "locations = [(-34.0, -59.166672),(-32.23333, -64.433327),(40.166672, 44.133331),(51.216671, 5.0833302),(51.333328, 4.25)]\n",
    "symbols = gmaps.symbol_layer(locations, fill_color=\"red\", stroke_color=\"red\")\n",
    "m.add_layer(symbols)"
   ]
  },
  {
   "cell_type": "markdown",
   "metadata": {},
   "source": [
    "## gmaps.directions_layer(start, end, waypoints=None)"
   ]
  },
  {
   "cell_type": "markdown",
   "metadata": {},
   "source": [
    "Create a directions layer. Add this layer to a Map instance to draw directions on the map."
   ]
  },
  {
   "cell_type": "markdown",
   "metadata": {},
   "source": [
    "- start (2-element tuple) – (Latitude, longitude) pair denoting the start of the journey.\n",
    "- end (2-element tuple) – (Latitude, longitude) pair denoting the end of the journey.\n",
    "- waypoints (List of 2-element tuples, optional) – Iterable of (latitude, longitude) pair denoting waypoints. Google maps imposes a limitation on the total number of waypoints. This limit is currently 23."
   ]
  },
  {
   "cell_type": "code",
   "execution_count": null,
   "metadata": {
    "collapsed": true
   },
   "outputs": [],
   "source": [
    "# ex)\n",
    "m = gmaps.Map()\n",
    "start = (46.2, 6.1)\n",
    "end = (47.4, 8.5)\n",
    "directions = gmaps.directions_layer(start, end)\n",
    "m.add_layer(directions)\n",
    "m"
   ]
  },
  {
   "cell_type": "markdown",
   "metadata": {},
   "source": [
    "## gmaps.marker_layer(locations, hover_text=’‘, label=’‘, info_box_content=None, display_info_box=None)"
   ]
  },
  {
   "cell_type": "markdown",
   "metadata": {},
   "source": [
    "Creating a marker layer. Add this layer to a Map instance to represent markers corresponding to the specific locations on the map."
   ]
  },
  {
   "cell_type": "markdown",
   "metadata": {},
   "source": [
    "- locations (list of tuples) – List of (latitude, longitude) pairs denoting a single point. Latitudes are expressed as a float between -90 and +90. Longitudes are expressed as a float between -180 and +180.\n",
    "- label (string or list of strings, optional) – Text to be shown inside the marker. Google maps only displays the first letter of whatever string is passed to the marker. This can be either a single string, in which case every marker will receive the same label, or a list of strings, in which case it must be of the same length as locations.\n",
    "- hover_text (string or list of strings, optional) – Text to be shown when a user’s mouse is placed over a marker. This can be either a single string, in which case it will be applied to every marker, or a list of strings, in which case it must have the same length as locations. If this is set to an empty string, nothing will appear when the user’s mouse is placed over a marker.\n",
    "- info_box_content (string or list of strings, optional) – Content to be shown when a user clicks on a marker. This should either be a single string, in which case the same content will apply to every marker, or a list of strings having the same length as the locations list.\n",
    "- display_info_box (boolean or list of booleans, optional) – Whether to show an info box or not when the user clicks on a marker. This should either be a single boolean value, in which case it will be applied to every marker, or a list of boolean values having the same length as the locations list. The default value is True for any markers where info_box_content is set, and otherwise False."
   ]
  },
  {
   "cell_type": "code",
   "execution_count": null,
   "metadata": {
    "collapsed": true
   },
   "outputs": [],
   "source": [
    "# ex)\n",
    "m = gmaps.Map()\n",
    "locations = [(-34.0, -59.166672),(-32.23333, -64.433327),(40.166672, 44.133331),(51.216671, 5.0833302),(51.333328, 4.25)]\n",
    "symbols = gmaps.marker_layer(locations)\n",
    "m.add_layer(symbols)"
   ]
  }
 ],
 "metadata": {
  "kernelspec": {
   "display_name": "Python [conda root]",
   "language": "python",
   "name": "conda-root-py"
  },
  "language_info": {
   "codemirror_mode": {
    "name": "ipython",
    "version": 3
   },
   "file_extension": ".py",
   "mimetype": "text/x-python",
   "name": "python",
   "nbconvert_exporter": "python",
   "pygments_lexer": "ipython3",
   "version": "3.5.2"
  }
 },
 "nbformat": 4,
 "nbformat_minor": 2
}
